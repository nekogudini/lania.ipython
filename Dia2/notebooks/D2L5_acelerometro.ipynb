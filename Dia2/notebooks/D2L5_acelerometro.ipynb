{
 "cells": [
  {
   "cell_type": "markdown",
   "metadata": {},
   "source": [
    "# Dia 2, Libreta 5 acelerometro\n",
    "\n",
    "En esta libreta accederemos a los datos de su acelerometro. Nuevamente importen el modulo y creen un objeto `android`."
   ]
  },
  {
   "cell_type": "code",
   "execution_count": 30,
   "metadata": {
    "collapsed": false
   },
   "outputs": [],
   "source": [
    "import android\n",
    "droide=android.Android()"
   ]
  },
  {
   "cell_type": "code",
   "execution_count": 8,
   "metadata": {
    "collapsed": false
   },
   "outputs": [
    {
     "data": {
      "text/plain": [
       "Result(id=0, result=None, error=None)"
      ]
     },
     "execution_count": 8,
     "metadata": {},
     "output_type": "execute_result"
    }
   ],
   "source": [
    "droide.ttsSpeak(\"hola bato\")"
   ]
  },
  {
   "cell_type": "code",
   "execution_count": 9,
   "metadata": {
    "collapsed": true
   },
   "outputs": [],
   "source": [
    "# 100ms entre lecturas\n",
    "dt = 100\n",
    "# duracion de la muestras\n",
    "fin = 3000"
   ]
  },
  {
   "cell_type": "markdown",
   "metadata": {},
   "source": [
    "Inicializamos el tiempo de censado e iniciamos censado en el dispositivo"
   ]
  },
  {
   "cell_type": "code",
   "execution_count": 10,
   "metadata": {
    "collapsed": false
   },
   "outputs": [
    {
     "data": {
      "text/plain": [
       "Result(id=1, result=None, error=None)"
      ]
     },
     "execution_count": 10,
     "metadata": {},
     "output_type": "execute_result"
    }
   ],
   "source": [
    "tiempo = 0\n",
    "droide.startSensingTimed(2,dt)"
   ]
  },
  {
   "cell_type": "markdown",
   "metadata": {},
   "source": [
    "La siguiente instruccion regresa los valores de la lectura del acelerometro:"
   ]
  },
  {
   "cell_type": "code",
   "execution_count": 14,
   "metadata": {
    "collapsed": false
   },
   "outputs": [
    {
     "data": {
      "text/plain": [
       "Result(id=4, result=[12.641385, -2.030283, -0.842759], error=None)"
      ]
     },
     "execution_count": 14,
     "metadata": {},
     "output_type": "execute_result"
    }
   ],
   "source": [
    "droide.sensorsReadAccelerometer()"
   ]
  },
  {
   "cell_type": "markdown",
   "metadata": {},
   "source": [
    "Guardaremos estas lecturas en una variable que contendra los datos"
   ]
  },
  {
   "cell_type": "code",
   "execution_count": 13,
   "metadata": {
    "collapsed": true
   },
   "outputs": [],
   "source": [
    "lecturas = []"
   ]
  },
  {
   "cell_type": "markdown",
   "metadata": {},
   "source": [
    "Ahora censamos hasta que el tiempo alcance el tiempo de sensado"
   ]
  },
  {
   "cell_type": "code",
   "execution_count": 28,
   "metadata": {
    "collapsed": false
   },
   "outputs": [
    {
     "ename": "error",
     "evalue": "[Errno 10053] Se ha anulado una conexión establecida por el software en su equipo host",
     "output_type": "error",
     "traceback": [
      "\u001b[1;31m---------------------------------------------------------------------------\u001b[0m",
      "\u001b[1;31merror\u001b[0m                                     Traceback (most recent call last)",
      "\u001b[1;32m<ipython-input-28-de9eb9b7cb4c>\u001b[0m in \u001b[0;36m<module>\u001b[1;34m()\u001b[0m\n\u001b[0;32m      5\u001b[0m     \u001b[0mtiempo\u001b[0m \u001b[1;33m+=\u001b[0m \u001b[0mdt\u001b[0m\u001b[1;33m\u001b[0m\u001b[0m\n\u001b[0;32m      6\u001b[0m \u001b[1;33m\u001b[0m\u001b[0m\n\u001b[1;32m----> 7\u001b[1;33m \u001b[0mdroide\u001b[0m\u001b[1;33m.\u001b[0m\u001b[0mstopSensing\u001b[0m\u001b[1;33m(\u001b[0m\u001b[1;33m)\u001b[0m\u001b[1;33m;\u001b[0m\u001b[1;33m\u001b[0m\u001b[0m\n\u001b[0m",
      "\u001b[1;32mC:\\Users\\Gaspar\\.ipython\\android.pyc\u001b[0m in \u001b[0;36mrpc_call\u001b[1;34m(*args)\u001b[0m\n\u001b[0;32m     56\u001b[0m   \u001b[1;32mdef\u001b[0m \u001b[0m__getattr__\u001b[0m\u001b[1;33m(\u001b[0m\u001b[0mself\u001b[0m\u001b[1;33m,\u001b[0m \u001b[0mname\u001b[0m\u001b[1;33m)\u001b[0m\u001b[1;33m:\u001b[0m\u001b[1;33m\u001b[0m\u001b[0m\n\u001b[0;32m     57\u001b[0m     \u001b[1;32mdef\u001b[0m \u001b[0mrpc_call\u001b[0m\u001b[1;33m(\u001b[0m\u001b[1;33m*\u001b[0m\u001b[0margs\u001b[0m\u001b[1;33m)\u001b[0m\u001b[1;33m:\u001b[0m\u001b[1;33m\u001b[0m\u001b[0m\n\u001b[1;32m---> 58\u001b[1;33m       \u001b[1;32mreturn\u001b[0m \u001b[0mself\u001b[0m\u001b[1;33m.\u001b[0m\u001b[0m_rpc\u001b[0m\u001b[1;33m(\u001b[0m\u001b[0mname\u001b[0m\u001b[1;33m,\u001b[0m \u001b[1;33m*\u001b[0m\u001b[0margs\u001b[0m\u001b[1;33m)\u001b[0m\u001b[1;33m\u001b[0m\u001b[0m\n\u001b[0m\u001b[0;32m     59\u001b[0m     \u001b[1;32mreturn\u001b[0m \u001b[0mrpc_call\u001b[0m\u001b[1;33m\u001b[0m\u001b[0m\n",
      "\u001b[1;32mC:\\Users\\Gaspar\\.ipython\\android.pyc\u001b[0m in \u001b[0;36m_rpc\u001b[1;34m(self, method, *args)\u001b[0m\n\u001b[0;32m     44\u001b[0m     \u001b[0mrequest\u001b[0m \u001b[1;33m=\u001b[0m \u001b[0mjson\u001b[0m\u001b[1;33m.\u001b[0m\u001b[0mdumps\u001b[0m\u001b[1;33m(\u001b[0m\u001b[0mdata\u001b[0m\u001b[1;33m)\u001b[0m\u001b[1;33m\u001b[0m\u001b[0m\n\u001b[0;32m     45\u001b[0m     \u001b[0mself\u001b[0m\u001b[1;33m.\u001b[0m\u001b[0mclient\u001b[0m\u001b[1;33m.\u001b[0m\u001b[0mwrite\u001b[0m\u001b[1;33m(\u001b[0m\u001b[0mrequest\u001b[0m\u001b[1;33m+\u001b[0m\u001b[1;34m'\\n'\u001b[0m\u001b[1;33m)\u001b[0m\u001b[1;33m\u001b[0m\u001b[0m\n\u001b[1;32m---> 46\u001b[1;33m     \u001b[0mself\u001b[0m\u001b[1;33m.\u001b[0m\u001b[0mclient\u001b[0m\u001b[1;33m.\u001b[0m\u001b[0mflush\u001b[0m\u001b[1;33m(\u001b[0m\u001b[1;33m)\u001b[0m\u001b[1;33m\u001b[0m\u001b[0m\n\u001b[0m\u001b[0;32m     47\u001b[0m     \u001b[0mresponse\u001b[0m \u001b[1;33m=\u001b[0m \u001b[0mself\u001b[0m\u001b[1;33m.\u001b[0m\u001b[0mclient\u001b[0m\u001b[1;33m.\u001b[0m\u001b[0mreadline\u001b[0m\u001b[1;33m(\u001b[0m\u001b[1;33m)\u001b[0m\u001b[1;33m\u001b[0m\u001b[0m\n\u001b[0;32m     48\u001b[0m     \u001b[0mself\u001b[0m\u001b[1;33m.\u001b[0m\u001b[0mid\u001b[0m \u001b[1;33m+=\u001b[0m \u001b[1;36m1\u001b[0m\u001b[1;33m\u001b[0m\u001b[0m\n",
      "\u001b[1;32mC:\\Anaconda\\lib\\socket.pyc\u001b[0m in \u001b[0;36mflush\u001b[1;34m(self)\u001b[0m\n\u001b[0;32m    305\u001b[0m             \u001b[1;32mtry\u001b[0m\u001b[1;33m:\u001b[0m\u001b[1;33m\u001b[0m\u001b[0m\n\u001b[0;32m    306\u001b[0m                 \u001b[1;32mwhile\u001b[0m \u001b[0mwrite_offset\u001b[0m \u001b[1;33m<\u001b[0m \u001b[0mdata_size\u001b[0m\u001b[1;33m:\u001b[0m\u001b[1;33m\u001b[0m\u001b[0m\n\u001b[1;32m--> 307\u001b[1;33m                     \u001b[0mself\u001b[0m\u001b[1;33m.\u001b[0m\u001b[0m_sock\u001b[0m\u001b[1;33m.\u001b[0m\u001b[0msendall\u001b[0m\u001b[1;33m(\u001b[0m\u001b[0mview\u001b[0m\u001b[1;33m[\u001b[0m\u001b[0mwrite_offset\u001b[0m\u001b[1;33m:\u001b[0m\u001b[0mwrite_offset\u001b[0m\u001b[1;33m+\u001b[0m\u001b[0mbuffer_size\u001b[0m\u001b[1;33m]\u001b[0m\u001b[1;33m)\u001b[0m\u001b[1;33m\u001b[0m\u001b[0m\n\u001b[0m\u001b[0;32m    308\u001b[0m                     \u001b[0mwrite_offset\u001b[0m \u001b[1;33m+=\u001b[0m \u001b[0mbuffer_size\u001b[0m\u001b[1;33m\u001b[0m\u001b[0m\n\u001b[0;32m    309\u001b[0m             \u001b[1;32mfinally\u001b[0m\u001b[1;33m:\u001b[0m\u001b[1;33m\u001b[0m\u001b[0m\n",
      "\u001b[1;31merror\u001b[0m: [Errno 10053] Se ha anulado una conexión establecida por el software en su equipo host"
     ]
    }
   ],
   "source": [
    "import time\n",
    "while tiempo <= fin:\n",
    "    lecturas.append(droide.sensorsReadAccelerometer().result)\n",
    "    time.sleep(dt/1000.0)\n",
    "    tiempo += dt\n",
    "    \n",
    "droide.stopSensing();"
   ]
  },
  {
   "cell_type": "code",
   "execution_count": 23,
   "metadata": {
    "collapsed": false
   },
   "outputs": [
    {
     "data": {
      "text/plain": [
       "[[0.11492168, 0.34476504, 9.959879],\n",
       " [0.076614454, 0.34476504, 9.959879],\n",
       " [0.076614454, 0.38307226, 9.998186],\n",
       " [0.076614454, 0.38307226, 9.959879],\n",
       " [0.11492168, 0.34476504, 9.959879],\n",
       " [0.076614454, 0.34476504, 9.998186],\n",
       " [0.076614454, 0.34476504, 9.959879],\n",
       " [0.11492168, 0.34476504, 9.959879],\n",
       " [0.076614454, 0.34476504, 9.959879],\n",
       " [0.076614454, 0.38307226, 9.959879],\n",
       " [0.11492168, 0.34476504, 9.959879],\n",
       " [0.11492168, 0.34476504, 9.959879],\n",
       " [0.11492168, 0.34476504, 9.959879],\n",
       " [0.076614454, 0.34476504, 9.959879],\n",
       " [0.11492168, 0.38307226, 9.959879],\n",
       " [0.11492168, 0.34476504, 9.921572],\n",
       " [0.076614454, 0.34476504, 9.921572],\n",
       " [0.076614454, 0.38307226, 9.959879],\n",
       " [0.11492168, 0.34476504, 9.959879],\n",
       " [0.076614454, 0.34476504, 9.959879],\n",
       " [0.11492168, 0.34476504, 9.998186],\n",
       " [0.076614454, 0.34476504, 9.959879],\n",
       " [0.076614454, 0.34476504, 9.959879],\n",
       " [0.076614454, 0.34476504, 9.959879],\n",
       " [0.11492168, 0.34476504, 9.959879],\n",
       " [0.11492168, 0.34476504, 9.959879],\n",
       " [0.076614454, 0.34476504, 9.921572],\n",
       " [0.076614454, 0.34476504, 9.959879],\n",
       " [0.11492168, 0.34476504, 9.959879],\n",
       " [0.11492168, 0.34476504, 9.959879],\n",
       " [0.076614454, 0.34476504, 9.959879]]"
      ]
     },
     "execution_count": 23,
     "metadata": {},
     "output_type": "execute_result"
    }
   ],
   "source": [
    "lecturas"
   ]
  },
  {
   "cell_type": "code",
   "execution_count": 24,
   "metadata": {
    "collapsed": true
   },
   "outputs": [],
   "source": [
    "import pandas as pd\n",
    "%matplotlib inline"
   ]
  },
  {
   "cell_type": "code",
   "execution_count": 25,
   "metadata": {
    "collapsed": false
   },
   "outputs": [],
   "source": [
    "df = pd.DataFrame(lecturas, columns=['x','y','z'])"
   ]
  },
  {
   "cell_type": "code",
   "execution_count": 26,
   "metadata": {
    "collapsed": false
   },
   "outputs": [
    {
     "name": "stdout",
     "output_type": "stream",
     "text": [
      "<class 'pandas.core.frame.DataFrame'>\n",
      "Int64Index: 31 entries, 0 to 30\n",
      "Data columns (total 3 columns):\n",
      "x    31 non-null float64\n",
      "y    31 non-null float64\n",
      "z    31 non-null float64\n",
      "dtypes: float64(3)\n",
      "memory usage: 992.0 bytes\n"
     ]
    }
   ],
   "source": [
    "df.info()"
   ]
  },
  {
   "cell_type": "code",
   "execution_count": 27,
   "metadata": {
    "collapsed": false
   },
   "outputs": [
    {
     "data": {
      "text/plain": [
       "<matplotlib.axes._subplots.AxesSubplot at 0xc287780>"
      ]
     },
     "execution_count": 27,
     "metadata": {},
     "output_type": "execute_result"
    },
    {
     "data": {
      "image/png": "[encoded data removed]",
      "text/plain": [
       "<matplotlib.figure.Figure at 0xaa49dd8>"
      ]
     },
     "metadata": {},
     "output_type": "display_data"
    }
   ],
   "source": [
    "df.plot()"
   ]
  },
  {
   "cell_type": "markdown",
   "metadata": {},
   "source": [
    "# Ejercicio\n",
    "\n",
    "Escriban un script que lleve a cabo unicamente la lectura de los datos del acelerometro de su dispositivo y copienlo en el folder correspondiente para ejecutarlo desde sus dispositivos."
   ]
  },
  {
   "cell_type": "code",
   "execution_count": 25,
   "metadata": {
    "collapsed": false
   },
   "outputs": [
    {
     "name": "stdout",
     "output_type": "stream",
     "text": [
      "Writing acelerometroClase.py\n"
     ]
    }
   ],
   "source": [
    "%%file acelerometroClase.py\n",
    "import android\n",
    "import time\n",
    "import csv\n",
    "\n",
    "dt = 100\n",
    "fin = 5000\n",
    "tiempo = 0\n",
    "\n",
    "droide = android.Android()\n",
    "droide.startSensingTimed(2,dt)\n",
    "lecturas = []\n",
    "while tiempo <= fin:\n",
    "    lecturas.append(droide.sensorsReadAccelerometer().result)\n",
    "    time.sleep(dt/1000.0)\n",
    "    tiempo += dt\n",
    "droide.stopSensing();\n",
    "\n",
    "with open ('test.csv','w') as fp:\n",
    "    a = csv.writer(fp, delimiter=',')\n",
    "    a.writerows(lecturas)"
   ]
  },
  {
   "cell_type": "code",
   "execution_count": 30,
   "metadata": {
    "collapsed": false
   },
   "outputs": [
    {
     "name": "stderr",
     "output_type": "stream",
     "text": [
      "18 KB/s (408 bytes in 0.021s)\n"
     ]
    }
   ],
   "source": [
    "!adb push acelerometroClase.py /sdcard/sl4a/"
   ]
  },
  {
   "cell_type": "code",
   "execution_count": null,
   "metadata": {
    "collapsed": false
   },
   "outputs": [],
   "source": [
    "# %load test.csv\n",
    ",,\n",
    "\n",
    "0.5746084,-0.22984336,9.883265\n",
    "\n",
    "0.5746084,-0.22984336,9.921572\n",
    "\n",
    "0.5746084,-0.19153613,9.921572\n",
    "\n",
    "0.61291564,-0.19153613,9.883265\n",
    "\n",
    "0.61291564,-0.22984336,9.883265\n",
    "\n",
    "0.5746084,-0.22984336,9.921572\n",
    "\n",
    "0.5746084,-0.19153613,9.883265\n",
    "\n",
    "0.61291564,-0.19153613,9.921572\n",
    "\n",
    "0.61291564,-0.19153613,9.921572\n",
    "\n",
    "0.5746084,-0.22984336,9.921572\n",
    "\n",
    "0.61291564,-0.19153613,9.921572\n",
    "\n",
    "0.61291564,-0.22984336,9.883265\n",
    "\n",
    "0.61291564,-0.22984336,9.921572\n",
    "\n",
    "0.61291564,-0.19153613,9.921572\n",
    "\n",
    "0.61291564,-0.19153613,9.921572\n",
    "\n",
    "0.5746084,-0.22984336,9.883265\n",
    "\n",
    "0.5746084,-0.22984336,9.921572\n",
    "\n",
    "0.61291564,-0.19153613,9.921572\n",
    "\n",
    "0.5746084,-0.22984336,9.921572\n",
    "\n",
    "0.61291564,-0.22984336,9.921572\n",
    "\n",
    "0.61291564,-0.22984336,9.883265\n",
    "\n",
    "0.5746084,-0.22984336,9.883265\n",
    "\n",
    "0.5746084,-0.19153613,9.883265\n",
    "\n",
    "0.5746084,-0.19153613,9.883265\n",
    "\n",
    "0.5746084,-0.19153613,9.921572\n",
    "\n",
    "0.61291564,-0.22984336,9.921572\n",
    "\n",
    "0.5746084,-0.22984336,9.883265\n",
    "\n",
    "0.61291564,-0.19153613,9.921572\n",
    "\n",
    "0.61291564,-0.19153613,9.921572\n",
    "\n",
    "0.5746084,-0.19153613,9.921572\n",
    "\n",
    "0.5746084,-0.19153613,9.921572\n",
    "\n",
    "0.61291564,-0.19153613,9.921572\n",
    "\n",
    "0.61291564,-0.19153613,9.921572\n",
    "\n",
    "0.61291564,-0.19153613,9.921572\n",
    "\n",
    "0.5746084,-0.22984336,9.921572\n",
    "\n",
    "0.5746084,-0.22984336,9.921572\n",
    "\n",
    "0.5746084,-0.22984336,9.921572\n",
    "\n",
    "0.61291564,-0.19153613,9.921572\n",
    "\n",
    "0.5746084,-0.19153613,9.921572\n",
    "\n",
    "0.61291564,-0.22984336,9.921572\n",
    "\n",
    "0.5746084,-0.22984336,9.921572\n",
    "\n",
    "0.5746084,-0.22984336,9.921572\n",
    "\n",
    "0.5746084,-0.22984336,9.921572\n",
    "\n",
    "0.5746084,-0.22984336,9.921572\n",
    "\n",
    "0.61291564,-0.19153613,9.921572\n",
    "\n",
    "0.5746084,-0.22984336,9.921572\n",
    "\n",
    "0.61291564,-0.22984336,9.921572\n",
    "\n",
    "0.61291564,-0.22984336,9.883265\n",
    "\n",
    "0.5746084,-0.22984336,9.921572\n",
    "\n",
    "0.5746084,-0.19153613,9.883265\n",
    "\n"
   ]
  },
  {
   "cell_type": "code",
   "execution_count": 31,
   "metadata": {
    "collapsed": false
   },
   "outputs": [
    {
     "ename": "TypeError",
     "evalue": "parser_f() got an unexpected keyword argument 'columns'",
     "output_type": "error",
     "traceback": [
      "\u001b[1;31m---------------------------------------------------------------------------\u001b[0m",
      "\u001b[1;31mTypeError\u001b[0m                                 Traceback (most recent call last)",
      "\u001b[1;32m<ipython-input-31-4a95cc6fdab0>\u001b[0m in \u001b[0;36m<module>\u001b[1;34m()\u001b[0m\n\u001b[0;32m      3\u001b[0m \u001b[0mget_ipython\u001b[0m\u001b[1;33m(\u001b[0m\u001b[1;33m)\u001b[0m\u001b[1;33m.\u001b[0m\u001b[0mmagic\u001b[0m\u001b[1;33m(\u001b[0m\u001b[1;34mu'matplotlib inline'\u001b[0m\u001b[1;33m)\u001b[0m\u001b[1;33m\u001b[0m\u001b[0m\n\u001b[0;32m      4\u001b[0m \u001b[1;33m\u001b[0m\u001b[0m\n\u001b[1;32m----> 5\u001b[1;33m \u001b[0mdf\u001b[0m \u001b[1;33m=\u001b[0m \u001b[0mpd\u001b[0m\u001b[1;33m.\u001b[0m\u001b[0mread_csv\u001b[0m\u001b[1;33m(\u001b[0m\u001b[1;34m'test.csv'\u001b[0m\u001b[1;33m,\u001b[0m \u001b[0mheader\u001b[0m\u001b[1;33m=\u001b[0m\u001b[1;36m0\u001b[0m\u001b[1;33m,\u001b[0m \u001b[0mcolumns\u001b[0m\u001b[1;33m=\u001b[0m\u001b[1;33m[\u001b[0m\u001b[1;34m'x'\u001b[0m\u001b[1;33m,\u001b[0m\u001b[1;34m'y'\u001b[0m\u001b[1;33m,\u001b[0m\u001b[1;34m'z'\u001b[0m\u001b[1;33m]\u001b[0m\u001b[1;33m)\u001b[0m\u001b[1;33m\u001b[0m\u001b[0m\n\u001b[0m\u001b[0;32m      6\u001b[0m \u001b[0mdf\u001b[0m\u001b[1;33m.\u001b[0m\u001b[0minfo\u001b[0m\u001b[1;33m(\u001b[0m\u001b[1;33m)\u001b[0m\u001b[1;33m\u001b[0m\u001b[0m\n\u001b[0;32m      7\u001b[0m \u001b[0mdf\u001b[0m\u001b[1;33m.\u001b[0m\u001b[0mplot\u001b[0m\u001b[1;33m(\u001b[0m\u001b[1;33m)\u001b[0m\u001b[1;33m\u001b[0m\u001b[0m\n",
      "\u001b[1;31mTypeError\u001b[0m: parser_f() got an unexpected keyword argument 'columns'"
     ]
    }
   ],
   "source": [
    "import pandas as pd\n",
    "\n",
    "%matplotlib inline\n",
    "\n",
    "df = pd.read_csv('test.csv', header=0, )\n",
    "df.info()\n",
    "df.plot()"
   ]
  },
  {
   "cell_type": "code",
   "execution_count": null,
   "metadata": {
    "collapsed": true
   },
   "outputs": [],
   "source": []
  }
 ],
 "metadata": {
  "kernelspec": {
   "display_name": "Python 2",
   "language": "python",
   "name": "python2"
  },
  "language_info": {
   "codemirror_mode": {
    "name": "ipython",
    "version": 2
   },
   "file_extension": ".py",
   "mimetype": "text/x-python",
   "name": "python",
   "nbconvert_exporter": "python",
   "pygments_lexer": "ipython2",
   "version": "2.7.10"
  }
 },
 "nbformat": 4,
 "nbformat_minor": 0
}
